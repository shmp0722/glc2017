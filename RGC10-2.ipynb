{
 "cells": [
  {
   "cell_type": "code",
   "execution_count": null,
   "metadata": {
    "collapsed": false
   },
   "outputs": [
    {
     "name": "stdout",
     "output_type": "stream",
     "text": [
      "Warning: Variable names were modified to make them valid MATLAB identifiers.\n"
     ]
    }
   ],
   "source": [
    "%% read data\n",
    "cd '/Users/shumpei/Google Drive/CSFI/glc2017';\n",
    "[status,sheets] = xlsfinfo('10-2-5.xlsx');\n",
    "\n",
    "T = readtable('10-2-5.xlsx','Sheet',2);"
   ]
  },
  {
   "cell_type": "code",
   "execution_count": null,
   "metadata": {
    "collapsed": true
   },
   "outputs": [],
   "source": [
    "%% remove subjects HFA reliability is not enough\n",
    "rows =  T.FP< .15 & T.FN<.33 & T.FixLoss_pcnt<.2;\n",
    "T2 = T(rows,:);\n",
    "clear T rows"
   ]
  }
 ],
 "metadata": {
  "kernelspec": {
   "display_name": "Matlab",
   "language": "matlab",
   "name": "matlab"
  },
  "language_info": {
   "codemirror_mode": "octave",
   "file_extension": ".m",
   "help_links": [
    {
     "text": "MetaKernel Magics",
     "url": "https://github.com/calysto/metakernel/blob/master/metakernel/magics/README.md"
    }
   ],
   "mimetype": "text/x-matlab",
   "name": "matlab",
   "version": "0.13.0"
  }
 },
 "nbformat": 4,
 "nbformat_minor": 2
}
