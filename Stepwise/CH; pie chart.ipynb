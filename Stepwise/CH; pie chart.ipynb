{
 "cells": [
  {
   "cell_type": "code",
   "execution_count": 26,
   "metadata": {
    "collapsed": true
   },
   "outputs": [],
   "source": [
    "import matplotlib.pyplot as plt\n",
    "import numpy as np\n",
    "import xlrd\n",
    "import os\n",
    "import csv\n",
    "%matplotlib inline"
   ]
  },
  {
   "cell_type": "code",
   "execution_count": 11,
   "metadata": {
    "collapsed": false
   },
   "outputs": [],
   "source": [
    "FILE = 'gr.csv'\n",
    "f = open(FILE, 'r')"
   ]
  },
  {
   "cell_type": "code",
   "execution_count": 14,
   "metadata": {
    "collapsed": false
   },
   "outputs": [
    {
     "name": "stdout",
     "output_type": "stream",
     "text": [
      "<_io.TextIOWrapper name='gr.csv' mode='r' encoding='UTF-8'>\n"
     ]
    }
   ],
   "source": [
    "print(f)\n"
   ]
  },
  {
   "cell_type": "code",
   "execution_count": 23,
   "metadata": {
    "collapsed": false
   },
   "outputs": [],
   "source": [
    "nums = np.array([2, 1, 6, 6, 1, 2, 2, 4, 7, 1, 1, 1])\n",
    "ch = np.array(range(1, 13))"
   ]
  },
  {
   "cell_type": "code",
   "execution_count": 24,
   "metadata": {
    "collapsed": false
   },
   "outputs": [
    {
     "name": "stdout",
     "output_type": "stream",
     "text": [
      "[ 1  2  3  4  5  6  7  8  9 10 11 12]\n"
     ]
    }
   ],
   "source": [
    "print(ch)"
   ]
  },
  {
   "cell_type": "code",
   "execution_count": 27,
   "metadata": {
    "collapsed": false
   },
   "outputs": [
    {
     "data": {
      "text/plain": [
       "([<matplotlib.patches.Wedge at 0x7f4189e42e48>,\n",
       "  <matplotlib.patches.Wedge at 0x7f4189e4aac8>,\n",
       "  <matplotlib.patches.Wedge at 0x7f4189e4f748>,\n",
       "  <matplotlib.patches.Wedge at 0x7f4189e543c8>,\n",
       "  <matplotlib.patches.Wedge at 0x7f4189e5b048>,\n",
       "  <matplotlib.patches.Wedge at 0x7f4189e5bc88>,\n",
       "  <matplotlib.patches.Wedge at 0x7f4189e60908>,\n",
       "  <matplotlib.patches.Wedge at 0x7f4189e67588>,\n",
       "  <matplotlib.patches.Wedge at 0x7f4189e6d208>,\n",
       "  <matplotlib.patches.Wedge at 0x7f4189e6de48>,\n",
       "  <matplotlib.patches.Wedge at 0x7f4189e72ac8>,\n",
       "  <matplotlib.patches.Wedge at 0x7f4189df9748>],\n",
       " [<matplotlib.text.Text at 0x7f4189e4a668>,\n",
       "  <matplotlib.text.Text at 0x7f4189e4f2e8>,\n",
       "  <matplotlib.text.Text at 0x7f4189e4ff28>,\n",
       "  <matplotlib.text.Text at 0x7f4189e54ba8>,\n",
       "  <matplotlib.text.Text at 0x7f4189e5b828>,\n",
       "  <matplotlib.text.Text at 0x7f4189e604a8>,\n",
       "  <matplotlib.text.Text at 0x7f4189e67128>,\n",
       "  <matplotlib.text.Text at 0x7f4189e67d68>,\n",
       "  <matplotlib.text.Text at 0x7f4189e6d9e8>,\n",
       "  <matplotlib.text.Text at 0x7f4189e72668>,\n",
       "  <matplotlib.text.Text at 0x7f4189df92e8>,\n",
       "  <matplotlib.text.Text at 0x7f4189df9f28>])"
      ]
     },
     "execution_count": 27,
     "metadata": {},
     "output_type": "execute_result"
    },
    {
     "data": {
      "image/png": "[encoded data removed]",
      "text/plain": [
       "<matplotlib.figure.Figure at 0x7f418c4096d8>"
      ]
     },
     "metadata": {},
     "output_type": "display_data"
    }
   ],
   "source": [
    "plt.pie(ch)"
   ]
  },
  {
   "cell_type": "code",
   "execution_count": null,
   "metadata": {
    "collapsed": true
   },
   "outputs": [],
   "source": []
  }
 ],
 "metadata": {
  "anaconda-cloud": {},
  "kernelspec": {
   "display_name": "Python [conda root]",
   "language": "python",
   "name": "conda-root-py"
  },
  "language_info": {
   "codemirror_mode": {
    "name": "ipython",
    "version": 3
   },
   "file_extension": ".py",
   "mimetype": "text/x-python",
   "name": "python",
   "nbconvert_exporter": "python",
   "pygments_lexer": "ipython3",
   "version": "3.4.5"
  }
 },
 "nbformat": 4,
 "nbformat_minor": 2
}
